{
 "cells": [
  {
   "cell_type": "markdown",
   "id": "6e6b236f-6dcd-45a3-b107-dd8ec75d13f6",
   "metadata": {},
   "source": [
    "<h1>Title</h1>"
   ]
  },
  {
   "cell_type": "markdown",
   "id": "522f7e8b-7593-4bda-b6e6-59800a79c397",
   "metadata": {},
   "source": [
    "<h1>Introduction</h1>\n",
    "\n",
    "<p>Placeholder text</p>"
   ]
  },
  {
   "cell_type": "markdown",
   "id": "1fbf16b7-634b-4a49-8a13-ac3a97f26b6a",
   "metadata": {},
   "source": [
    "<h1>Methods and Results</h1>\n",
    "\n",
    "<p>Describe Methods here</p>\n",
    "<p><b>MAKE SURE TO LABEL VISUALS (ex. Figure 1) and refer back to them in explanations</b></p>"
   ]
  },
  {
   "cell_type": "code",
   "execution_count": 2,
   "id": "be35b67c-601a-497a-998b-14d37355feea",
   "metadata": {},
   "outputs": [
    {
     "name": "stderr",
     "output_type": "stream",
     "text": [
      "\u001b[1mRows: \u001b[22m\u001b[34m196\u001b[39m \u001b[1mColumns: \u001b[22m\u001b[34m9\u001b[39m\n",
      "\u001b[36m──\u001b[39m \u001b[1mColumn specification\u001b[22m \u001b[36m────────────────────────────────────────────────────────\u001b[39m\n",
      "\u001b[1mDelimiter:\u001b[22m \",\"\n",
      "\u001b[31mchr\u001b[39m (4): experience, hashedEmail, name, gender\n",
      "\u001b[32mdbl\u001b[39m (2): played_hours, age\n",
      "\u001b[33mlgl\u001b[39m (3): subscribe, individualId, organizationName\n",
      "\n",
      "\u001b[36mℹ\u001b[39m Use `spec()` to retrieve the full column specification for this data.\n",
      "\u001b[36mℹ\u001b[39m Specify the column types or set `show_col_types = FALSE` to quiet this message.\n",
      "\u001b[1mRows: \u001b[22m\u001b[34m1535\u001b[39m \u001b[1mColumns: \u001b[22m\u001b[34m5\u001b[39m\n",
      "\u001b[36m──\u001b[39m \u001b[1mColumn specification\u001b[22m \u001b[36m────────────────────────────────────────────────────────\u001b[39m\n",
      "\u001b[1mDelimiter:\u001b[22m \",\"\n",
      "\u001b[31mchr\u001b[39m (3): hashedEmail, start_time, end_time\n",
      "\u001b[32mdbl\u001b[39m (2): original_start_time, original_end_time\n",
      "\n",
      "\u001b[36mℹ\u001b[39m Use `spec()` to retrieve the full column specification for this data.\n",
      "\u001b[36mℹ\u001b[39m Specify the column types or set `show_col_types = FALSE` to quiet this message.\n"
     ]
    }
   ],
   "source": [
    "# Load the data set + libraries: \n",
    "library(tidyverse)\n",
    "library(repr)\n",
    "library(tidymodels)\n",
    "library(caret)\n",
    "\n",
    "players_data <- read_csv(\"https://drive.google.com/uc?export=download&id=1Mw9vW0hjTJwRWx0bDXiSpYsO3gKogaPz\")\n",
    "\n",
    "sessions_data <- read_csv(\"https://drive.google.com/uc?export=download&id=14O91N5OlVkvdGxXNJUj5jIsV5RexhzbB\")"
   ]
  },
  {
   "cell_type": "markdown",
   "id": "64a18fed-e59a-4922-9374-9f0ad562a306",
   "metadata": {},
   "source": [
    "<p>PlaceHolder</p>"
   ]
  },
  {
   "cell_type": "code",
   "execution_count": null,
   "id": "7ccad284-d6bf-4ee9-bb57-00eb5e315c9a",
   "metadata": {},
   "outputs": [],
   "source": [
    "# Split the data into training and testing data + wrangling\n"
   ]
  },
  {
   "cell_type": "markdown",
   "id": "68d460bc-badc-45c0-86f2-da5b892e238f",
   "metadata": {},
   "source": [
    "<p>PlaceHolder</p>"
   ]
  },
  {
   "cell_type": "code",
   "execution_count": null,
   "id": "23f7c52b-f107-4921-8eaa-3befcb60857c",
   "metadata": {},
   "outputs": [],
   "source": [
    "#Code for Age"
   ]
  },
  {
   "cell_type": "markdown",
   "id": "a7ffcff1-b1d1-473b-a76b-b61ecf0fc8e9",
   "metadata": {},
   "source": [
    "<p>PlaceHOlder\n",
    "</p>"
   ]
  },
  {
   "cell_type": "code",
   "execution_count": null,
   "id": "b4c5e1fe-17e3-4a8b-be9f-e20ebd77ac80",
   "metadata": {},
   "outputs": [],
   "source": [
    "#Code for Experience"
   ]
  },
  {
   "cell_type": "markdown",
   "id": "c83258be-e8b7-4330-8dcc-907c8a44fe4e",
   "metadata": {},
   "source": [
    "<p>PlaceHolder</p>"
   ]
  },
  {
   "cell_type": "code",
   "execution_count": null,
   "id": "74f0c2f6-5cb9-4ccd-ba7b-174b8843bdc5",
   "metadata": {},
   "outputs": [],
   "source": [
    "# Code for Regression"
   ]
  },
  {
   "cell_type": "markdown",
   "id": "594b36e7-c5e9-4140-b214-66e4e198e985",
   "metadata": {},
   "source": [
    "<p>PlaceHOlder</p>"
   ]
  },
  {
   "cell_type": "markdown",
   "id": "e9b70fb1-c275-4574-9a34-0bba9baf682f",
   "metadata": {},
   "source": [
    "<h1>Discussion</h1>"
   ]
  },
  {
   "cell_type": "markdown",
   "id": "81e34756-61c3-4d2a-99a9-f2b9ebcc8fb7",
   "metadata": {},
   "source": [
    "<p>PlaceHolder\n",
    "</p>"
   ]
  },
  {
   "cell_type": "markdown",
   "id": "93ff4313-7cc8-408d-afe6-bde11315a34d",
   "metadata": {},
   "source": [
    "<h1>References</h1>"
   ]
  },
  {
   "cell_type": "markdown",
   "id": "da97317b-bf7c-4ff1-8040-67d2d2646f92",
   "metadata": {},
   "source": [
    "<p>APA format??????</p>"
   ]
  },
  {
   "cell_type": "code",
   "execution_count": null,
   "id": "892b1bed-5174-4946-8046-a9205105600a",
   "metadata": {},
   "outputs": [],
   "source": []
  }
 ],
 "metadata": {
  "kernelspec": {
   "display_name": "R",
   "language": "R",
   "name": "ir"
  },
  "language_info": {
   "codemirror_mode": "r",
   "file_extension": ".r",
   "mimetype": "text/x-r-source",
   "name": "R",
   "pygments_lexer": "r",
   "version": "4.3.3"
  }
 },
 "nbformat": 4,
 "nbformat_minor": 5
}
