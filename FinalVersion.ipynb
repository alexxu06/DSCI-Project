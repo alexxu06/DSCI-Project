{
 "cells": [
  {
   "cell_type": "code",
   "execution_count": null,
   "id": "140b36cc-ae49-4e8e-b4e9-702ae4bd5664",
   "metadata": {},
   "outputs": [],
   "source": [
    "asdasdasdasd\n",
    "asd\n",
    "asdas\n"
   ]
  },
  {
   "cell_type": "code",
   "execution_count": null,
   "id": "be35b67c-601a-497a-998b-14d37355feea",
   "metadata": {},
   "outputs": [],
   "source": [
    "asd < \"asdasd\""
   ]
  }
 ],
 "metadata": {
  "kernelspec": {
   "display_name": "R",
   "language": "R",
   "name": "ir"
  },
  "language_info": {
   "codemirror_mode": "r",
   "file_extension": ".r",
   "mimetype": "text/x-r-source",
   "name": "R",
   "pygments_lexer": "r",
   "version": "4.3.3"
  }
 },
 "nbformat": 4,
 "nbformat_minor": 5
}
