{
 "cells": [
  {
   "cell_type": "markdown",
   "id": "6e6b236f-6dcd-45a3-b107-dd8ec75d13f6",
   "metadata": {},
   "source": [
    "<h1>Title</h1>"
   ]
  },
  {
   "cell_type": "markdown",
   "id": "522f7e8b-7593-4bda-b6e6-59800a79c397",
   "metadata": {},
   "source": [
    "<h1>Introduction</h1>\n",
    "\n",
    "<p>Placeholder text</p>"
   ]
  },
  {
   "cell_type": "markdown",
   "id": "1fbf16b7-634b-4a49-8a13-ac3a97f26b6a",
   "metadata": {},
   "source": [
    "<h1>Methods and Results</h1>\n",
    "\n",
    "<p>Describe Methods here</p>\n",
    "<p><b>MAKE SURE TO LABEL VISUALS (ex. Figure 1) and refer back to them in explanations</b></p>"
   ]
  },
  {
   "cell_type": "code",
   "execution_count": null,
   "id": "be35b67c-601a-497a-998b-14d37355feea",
   "metadata": {},
   "outputs": [],
   "source": [
    "# Load the data set: \n"
   ]
  },
  {
   "cell_type": "markdown",
   "id": "64a18fed-e59a-4922-9374-9f0ad562a306",
   "metadata": {},
   "source": [
    "<p>PlaceHolder</p>"
   ]
  },
  {
   "cell_type": "code",
   "execution_count": null,
   "id": "7ccad284-d6bf-4ee9-bb57-00eb5e315c9a",
   "metadata": {},
   "outputs": [],
   "source": [
    "# Split the data into training and testing data \n"
   ]
  },
  {
   "cell_type": "markdown",
   "id": "68d460bc-badc-45c0-86f2-da5b892e238f",
   "metadata": {},
   "source": [
    "<p>PlaceHolder</p>"
   ]
  },
  {
   "cell_type": "code",
   "execution_count": null,
   "id": "23f7c52b-f107-4921-8eaa-3befcb60857c",
   "metadata": {},
   "outputs": [],
   "source": [
    "#Code"
   ]
  },
  {
   "cell_type": "markdown",
   "id": "a7ffcff1-b1d1-473b-a76b-b61ecf0fc8e9",
   "metadata": {},
   "source": [
    "<p>PlaceHOlder\n",
    "</p>"
   ]
  },
  {
   "cell_type": "code",
   "execution_count": null,
   "id": "b4c5e1fe-17e3-4a8b-be9f-e20ebd77ac80",
   "metadata": {},
   "outputs": [],
   "source": [
    "#Code"
   ]
  },
  {
   "cell_type": "markdown",
   "id": "c83258be-e8b7-4330-8dcc-907c8a44fe4e",
   "metadata": {},
   "source": [
    "<p>PlaceHolder</p>"
   ]
  },
  {
   "cell_type": "markdown",
   "id": "e9b70fb1-c275-4574-9a34-0bba9baf682f",
   "metadata": {},
   "source": [
    "<h1>Discussion</h1>"
   ]
  },
  {
   "cell_type": "markdown",
   "id": "81e34756-61c3-4d2a-99a9-f2b9ebcc8fb7",
   "metadata": {},
   "source": [
    "<p>PlaceHolder\n",
    "</p>"
   ]
  },
  {
   "cell_type": "markdown",
   "id": "93ff4313-7cc8-408d-afe6-bde11315a34d",
   "metadata": {},
   "source": [
    "<h1>References</h1>"
   ]
  },
  {
   "cell_type": "markdown",
   "id": "da97317b-bf7c-4ff1-8040-67d2d2646f92",
   "metadata": {},
   "source": [
    "<p>APA format??????</p>"
   ]
  },
  {
   "cell_type": "code",
   "execution_count": null,
   "id": "892b1bed-5174-4946-8046-a9205105600a",
   "metadata": {},
   "outputs": [],
   "source": []
  }
 ],
 "metadata": {
  "kernelspec": {
   "display_name": "R",
   "language": "R",
   "name": "ir"
  },
  "language_info": {
   "codemirror_mode": "r",
   "file_extension": ".r",
   "mimetype": "text/x-r-source",
   "name": "R",
   "pygments_lexer": "r",
   "version": "4.3.3"
  }
 },
 "nbformat": 4,
 "nbformat_minor": 5
}
