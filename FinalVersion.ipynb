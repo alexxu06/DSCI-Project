{
 "cells": [
  {
   "cell_type": "code",
   "execution_count": null,
   "id": "140b36cc-ae49-4e8e-b4e9-702ae4bd5664",
   "metadata": {},
   "outputs": [],
   "source": [
    "# MULTI VARIABLE REGRESSION "
   ]
  },
  {
   "cell_type": "code",
   "execution_count": null,
   "id": "be35b67c-601a-497a-998b-14d37355feea",
   "metadata": {},
   "outputs": [],
   "source": [
    "# Load the data set: \n"
   ]
  },
  {
   "cell_type": "code",
   "execution_count": null,
   "id": "7ccad284-d6bf-4ee9-bb57-00eb5e315c9a",
   "metadata": {},
   "outputs": [],
   "source": [
    "# Split the data into training and testing data \n"
   ]
  },
  {
   "cell_type": "code",
   "execution_count": null,
   "id": "23f7c52b-f107-4921-8eaa-3befcb60857c",
   "metadata": {},
   "outputs": [],
   "source": []
  }
 ],
 "metadata": {
  "kernelspec": {
   "display_name": "R",
   "language": "R",
   "name": "ir"
  },
  "language_info": {
   "codemirror_mode": "r",
   "file_extension": ".r",
   "mimetype": "text/x-r-source",
   "name": "R",
   "pygments_lexer": "r",
   "version": "4.3.3"
  }
 },
 "nbformat": 4,
 "nbformat_minor": 5
}
